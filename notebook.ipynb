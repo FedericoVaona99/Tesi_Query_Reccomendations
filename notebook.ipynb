{
 "cells": [
  {
   "cell_type": "markdown",
   "id": "0a81b452",
   "metadata": {},
   "source": [
    "1) Rappresentare query e profili come embedding "
   ]
  },
  {
   "cell_type": "code",
   "execution_count": 2,
   "id": "d6c12dbf",
   "metadata": {},
   "outputs": [
    {
     "name": "stdout",
     "output_type": "stream",
     "text": [
      "Embedding calcolato per la query:\n",
      "[-9.12196338e-02  4.82078306e-02  4.28559585e-03  5.62877618e-02\n",
      " -9.31479782e-02  3.17956097e-02  5.28045185e-02  4.10347991e-02\n",
      "  9.86863207e-03 -1.68792587e-02  6.44217581e-02 -1.30243286e-01\n",
      " -1.04704853e-02  5.50178215e-02 -8.24869350e-02 -3.65489200e-02\n",
      "  8.48140568e-03  1.25394249e-02 -3.26627120e-02  1.95095856e-02\n",
      " -2.53478643e-02 -6.07474260e-02  2.42216373e-03  3.99483554e-02\n",
      " -5.62509447e-02 -1.42766081e-03 -1.71665568e-02 -3.82813960e-02\n",
      " -1.19715547e-02  2.38501560e-02  1.69824734e-02  9.05974060e-02\n",
      "  3.18437144e-02 -9.95773077e-02  6.82917461e-02 -2.22271681e-02\n",
      " -2.03441475e-02 -5.04771732e-02  1.00376204e-01  7.06631318e-02\n",
      " -4.29129601e-02 -4.38364595e-02  4.70876694e-02  3.04056853e-02\n",
      "  5.08238375e-02 -5.68662025e-02  1.71408765e-02  3.65497656e-02\n",
      " -1.84695143e-02  2.36278102e-02 -1.40578479e-01  1.90707133e-03\n",
      " -6.96761087e-02 -5.59170581e-02 -3.46701033e-02  3.95653881e-02\n",
      "  4.56602834e-02 -5.17620109e-02  1.80368237e-02 -4.86057103e-02\n",
      "  5.14473803e-02 -6.38087047e-04 -6.36799932e-02  6.11299872e-02\n",
      " -1.94673687e-02  5.94216101e-02 -6.18043728e-02 -4.97424556e-03\n",
      " -4.13875245e-02  5.89552112e-02  7.20554814e-02 -3.01491600e-02\n",
      "  2.31357687e-03 -4.90610488e-03  8.00066255e-03 -2.98446044e-02\n",
      " -3.83393317e-02 -3.30347591e-03  7.50412280e-03 -5.50231189e-02\n",
      "  7.71752838e-03 -1.24058865e-01 -1.86853632e-02  4.17331187e-03\n",
      "  3.18077356e-02  3.26549225e-02  1.01339765e-01 -4.45771329e-02\n",
      " -7.02924747e-03 -8.76327977e-03 -2.09797695e-02 -2.63968427e-02\n",
      " -4.65572551e-02  8.60984158e-03 -5.51956296e-02 -9.43308137e-03\n",
      " -2.66234688e-02 -3.33038792e-02  6.70281053e-02  1.13700390e-01\n",
      " -2.94516589e-02  1.24998996e-02  2.34758537e-02  1.31635815e-01\n",
      " -1.22885391e-01 -4.06458601e-02 -4.20854986e-02 -1.02084912e-01\n",
      "  2.43645143e-02  5.01396097e-02 -2.89402008e-02 -4.22141068e-02\n",
      " -3.99711542e-03 -3.25307436e-02 -6.16165856e-03  6.21142201e-02\n",
      "  7.48289376e-02  1.87723730e-02  3.81465405e-02 -7.40685314e-03\n",
      "  2.83855032e-02  2.84451805e-02 -1.92679316e-02  3.33120823e-02\n",
      " -8.44033808e-03 -1.38192168e-02  5.25921769e-02 -9.64414779e-34\n",
      " -2.67977640e-02 -6.75780922e-02 -2.49040611e-02  3.14363725e-02\n",
      "  3.38932760e-02  5.09956814e-02 -1.10110216e-01 -7.19332248e-02\n",
      "  1.15710944e-02 -6.69736937e-02 -4.56966944e-02  3.29784900e-02\n",
      " -1.04245944e-02 -4.35280055e-02  5.32446615e-02  6.03895113e-02\n",
      "  5.09118065e-02  7.55887404e-02  9.41776391e-03 -5.80835827e-02\n",
      " -4.42176983e-02  4.35720272e-02  5.71575463e-02 -3.60864252e-02\n",
      " -1.50748314e-02  5.91022931e-02  3.80058624e-02 -1.60096027e-02\n",
      " -3.71068693e-03  4.45946455e-02  8.57079402e-02 -1.07254051e-02\n",
      "  2.76328181e-03 -1.40823703e-02 -7.65636389e-04 -5.97563013e-03\n",
      " -5.57017699e-02 -5.43895438e-02  3.81812975e-02  5.85167855e-02\n",
      " -8.04061629e-03  5.40894642e-02 -4.13740538e-02 -1.17253652e-02\n",
      "  8.06933269e-04  7.76880980e-03  4.09252569e-02  3.34782563e-02\n",
      "  6.74597919e-02 -4.49112430e-02 -4.45014350e-02 -3.62922773e-02\n",
      " -4.79917461e-03  1.51928430e-02  6.25556558e-02  8.27314332e-02\n",
      " -1.10429600e-02  8.51524770e-02  1.38223385e-02 -2.57441755e-02\n",
      "  7.79072195e-02  7.54400119e-02  2.08089463e-02  1.70803349e-02\n",
      "  1.71849485e-02  3.87582071e-02 -3.09889354e-02 -5.69142997e-02\n",
      "  8.37277398e-02 -2.74870396e-02 -8.13016370e-02 -4.76479828e-02\n",
      "  5.39649725e-02  2.36309525e-02 -1.09128496e-02  3.82512882e-02\n",
      " -1.47961415e-02 -3.77710201e-02 -6.22620024e-02  1.63238309e-03\n",
      " -1.28421202e-01 -3.88572849e-02  1.50944537e-03 -1.31967552e-02\n",
      "  1.63131617e-02  1.60816796e-02 -4.30095196e-02  1.83881298e-02\n",
      "  6.81997538e-02  2.65215840e-02  1.29476925e-02 -4.78943177e-02\n",
      "  4.76808846e-02 -3.12134735e-02 -1.82930119e-02  6.24572119e-35\n",
      " -4.76446413e-02 -4.97241355e-02 -4.36222218e-02  5.57726957e-02\n",
      "  3.31664383e-02 -4.63178940e-02 -1.18574731e-01 -3.22059393e-02\n",
      "  3.69278453e-02  5.55040985e-02 -3.59216928e-02 -3.86384688e-02\n",
      "  1.49785914e-02 -9.58602279e-02 -4.34824498e-03  7.53468648e-02\n",
      "  1.18651256e-01  3.47283669e-02 -7.29253963e-02  4.35591908e-03\n",
      " -5.16046919e-02 -1.02898637e-02 -5.27549833e-02 -9.06246006e-02\n",
      " -3.16792615e-02  3.07338387e-02  3.23414989e-02 -4.60042208e-02\n",
      " -5.48245311e-02 -2.18835305e-02 -7.96836466e-02 -2.31262166e-02\n",
      " -5.12889773e-02 -3.27145830e-02  8.75719171e-03  6.37923703e-02\n",
      "  1.13123082e-01 -3.73835079e-02  5.53850979e-02  2.06878912e-02\n",
      " -3.51703092e-02  7.91388974e-02  2.92330366e-02  1.06796987e-01\n",
      "  8.66802558e-02  1.55409018e-03 -6.61196038e-02  1.84692778e-02\n",
      " -1.61903519e-02  7.98751879e-03 -1.21988636e-03 -5.67334518e-02\n",
      "  3.15621449e-03 -1.04493082e-01  3.58829908e-02 -3.31474617e-02\n",
      "  4.05226015e-02 -2.60143336e-02 -1.59779951e-01  3.77398357e-02\n",
      "  8.79667178e-02  2.94765900e-03 -1.11745088e-03  1.07278138e-01\n",
      "  1.22051844e-02  4.60003912e-02 -9.06781331e-02  2.88498942e-02\n",
      "  5.37608285e-03  1.01718400e-02  8.57116878e-02 -1.06623163e-02\n",
      " -9.88363847e-02  3.85058336e-02 -2.21403372e-02  5.04928604e-02\n",
      " -2.23048385e-02  2.84753554e-02  3.62929292e-02 -4.57358249e-02\n",
      " -7.54219592e-02 -1.57554820e-02  1.27368858e-02  2.04444379e-02\n",
      "  3.33999805e-02 -1.92074571e-02 -6.04293728e-03 -4.80053127e-02\n",
      "  5.74704781e-02  3.14192008e-03  3.21744904e-02  9.30081867e-03\n",
      "  4.03154679e-02 -2.76279151e-02  1.03296056e-01 -1.43889505e-08\n",
      "  6.88269213e-02 -5.34957349e-02 -4.69545648e-02  4.73196730e-02\n",
      "  1.71359498e-02 -9.84915048e-02 -6.41170442e-02  1.36518048e-03\n",
      "  2.30561309e-02  4.85036243e-03 -2.58512627e-02  5.45638278e-02\n",
      " -1.02684200e-02  7.00260922e-02  1.72606320e-03  8.23152363e-02\n",
      "  6.73742667e-02 -1.69302896e-02 -4.55099493e-02  9.82876308e-03\n",
      "  1.27158582e-01  2.34450120e-02  6.77498654e-02 -7.34780207e-02\n",
      " -4.08600010e-02 -4.13104557e-02 -8.94866046e-03  2.30295379e-02\n",
      " -5.26476316e-02 -8.24615732e-02  5.19599393e-03  1.01668844e-02\n",
      " -4.45110090e-02 -6.30087554e-02  2.21484601e-02  3.28562707e-02\n",
      "  1.07556656e-02  8.38937797e-03  2.12598741e-02 -1.87158640e-02\n",
      "  1.78280063e-02 -1.38075529e-02  1.25076063e-02  4.30303439e-02\n",
      "  1.21684507e-01  6.17786981e-02 -1.84603222e-02 -3.49500440e-02\n",
      " -1.17787411e-02  3.24327610e-02 -1.12100996e-01  2.84599774e-02\n",
      "  6.04032874e-02 -8.19721445e-03 -3.51418406e-02  9.84328762e-02\n",
      "  5.05639464e-02  6.30283058e-02 -6.09342568e-02  2.67104823e-02\n",
      "  6.68257102e-02  5.58338799e-02 -1.41480640e-02 -6.34155720e-02]\n"
     ]
    }
   ],
   "source": [
    "from sentence_transformers import SentenceTransformer\n",
    "\n",
    "# Carica il modello pre-addestrato\n",
    "model = SentenceTransformer('all-MiniLM-L6-v2')\n",
    "\n",
    "# Funzione per calcolare embedding di una query\n",
    "def get_embedding(query):\n",
    "    return model.encode(query)\n",
    "\n",
    "# Prova con una query di esempio\n",
    "query = \"eventi scientifici a Verona\"\n",
    "embedding = get_embedding(query)\n",
    "\n",
    "print(\"Embedding calcolato per la query:\")\n",
    "print(embedding)"
   ]
  },
  {
   "cell_type": "markdown",
   "id": "37bdc999",
   "metadata": {},
   "source": [
    "2) Costruire un archivio di entità semplificato basato su keyword o profili ORCID"
   ]
  },
  {
   "cell_type": "code",
   "execution_count": 3,
   "id": "2f4fd9d3",
   "metadata": {},
   "outputs": [],
   "source": [
    "from collections import Counter\n",
    "\n",
    "def costruisci_profilo_entita(lista_query):\n",
    "    # Semplice estrazione di keyword da query (qui split su spazi, potresti migliorare con NLP)\n",
    "    entita = []\n",
    "    for query in lista_query:\n",
    "        parole = query.lower().split()\n",
    "        entita.extend(parole)\n",
    "    # Conta frequenze\n",
    "    profilo = Counter(entita)\n",
    "    return profilo\n"
   ]
  },
  {
   "cell_type": "markdown",
   "id": "172d545a",
   "metadata": {},
   "source": [
    "3) Calcolare similarità tra query e entità del profilo usando embedding"
   ]
  },
  {
   "cell_type": "code",
   "execution_count": 4,
   "id": "66d9296a",
   "metadata": {},
   "outputs": [],
   "source": [
    "from sentence_transformers import SentenceTransformer\n",
    "from sklearn.metrics.pairwise import cosine_similarity\n",
    "import numpy as np\n",
    "\n",
    "model = SentenceTransformer('all-MiniLM-L6-v2')\n",
    "\n",
    "def embedding_testo(testo):\n",
    "    return model.encode(testo)\n",
    "\n",
    "def similarita(query, entita_list):\n",
    "    emb_query = embedding_testo(query).reshape(1, -1)\n",
    "    emb_entita = [embedding_testo(e).reshape(1, -1) for e in entita_list]\n",
    "    emb_entita = np.vstack(emb_entita)\n",
    "    sim = cosine_similarity(emb_query, emb_entita)[0]\n",
    "    return dict(zip(entita_list, sim))\n"
   ]
  },
  {
   "cell_type": "markdown",
   "id": "599c8153",
   "metadata": {},
   "source": [
    "4) Suggerire la next query semplificata"
   ]
  },
  {
   "cell_type": "code",
   "execution_count": 7,
   "id": "6953c0bb",
   "metadata": {},
   "outputs": [],
   "source": [
    "def suggerisci_next_query(query_corrente, profilo_entita, top_k=3):\n",
    "    entita_list = list(profilo_entita.keys())\n",
    "    sim_scores = similarita(query_corrente, entita_list)\n",
    "    # Ordina per similarità decrescente\n",
    "    top_entita = sorted(sim_scores.items(), key=lambda x: x[1], reverse=True)\n",
    "    \n",
    "    # Parole già presenti nella query corrente\n",
    "    parole_query = set(query_corrente.lower().split())\n",
    "    \n",
    "    # Seleziona entità diverse da quelle già presenti\n",
    "    entita_filtrate = [e for e in top_entita if e[0] not in parole_query]\n",
    "    \n",
    "    # Prendi le prime top_k entità senza ripetizioni\n",
    "    top_entita_finali = entita_filtrate[:top_k]\n",
    "    \n",
    "    suggerita = query_corrente + \" \" + \" \".join([e[0] for e in top_entita_finali])\n",
    "    return suggerita\n",
    "\n"
   ]
  },
  {
   "cell_type": "markdown",
   "id": "80e5113d",
   "metadata": {},
   "source": [
    "5) Esempio d’uso completo:"
   ]
  },
  {
   "cell_type": "code",
   "execution_count": 8,
   "id": "c4ad3dd1",
   "metadata": {},
   "outputs": [
    {
     "name": "stdout",
     "output_type": "stream",
     "text": [
      "Next query suggerita: eventi a Verona cambiamenti climatici scientifici\n"
     ]
    }
   ],
   "source": [
    "# Lista query esempio per costruire il profilo\n",
    "query_passate = [\n",
    "    \"eventi scientifici a Verona\",\n",
    "    \"conferenze di intelligenza artificiale\",\n",
    "    \"meteorologia e cambiamenti climatici\",\n",
    "    \"convegni su ambiente e energia\"\n",
    "]\n",
    "\n",
    "profilo = costruisci_profilo_entita(query_passate)\n",
    "\n",
    "query_corrente = \"eventi a Verona\"\n",
    "next_query = suggerisci_next_query(query_corrente, profilo)\n",
    "\n",
    "print(\"Next query suggerita:\", next_query)\n"
   ]
  },
  {
   "cell_type": "markdown",
   "id": "02737aa2",
   "metadata": {},
   "source": [
    "## Integrazione profilo ORCID tramite API\n",
    "\n",
    "Qui recuperiamo i dati del profilo ORCID e ne estraiamo le keyword da usare per personalizzare la raccomandazione.\n"
   ]
  },
  {
   "cell_type": "code",
   "execution_count": 9,
   "id": "009b284d",
   "metadata": {},
   "outputs": [
    {
     "name": "stdout",
     "output_type": "stream",
     "text": [
      "Keyword estratte da ORCID:\n",
      "['database', 'data science', 'ethics in data management', 'recommender systems', 'context-awareness', 'personalization']\n"
     ]
    }
   ],
   "source": [
    "import requests\n",
    "\n",
    "def get_orcid_profile(orcid_id):\n",
    "    url = f\"https://pub.orcid.org/v3.0/{orcid_id}/person\"\n",
    "    headers = {\"Accept\": \"application/json\"}\n",
    "    response = requests.get(url, headers=headers)\n",
    "    if response.status_code == 200:\n",
    "        data = response.json()\n",
    "        return data\n",
    "    else:\n",
    "        print(f\"Errore nel recupero profilo ORCID: {response.status_code}\")\n",
    "        return None\n",
    "\n",
    "def estrai_keyword_orcid(profile_json):\n",
    "    keywords = []\n",
    "    if 'keywords' in profile_json:\n",
    "        kw_list = profile_json['keywords'].get('keyword', [])\n",
    "        for kw in kw_list:\n",
    "            if 'content' in kw:\n",
    "                keywords.append(kw['content'].lower())\n",
    "    return keywords\n",
    "\n",
    "# Esempio con un ORCID reale\n",
    "orcid_id = \"0000-0001-6092-6831\"\n",
    "profile_data = get_orcid_profile(orcid_id)\n",
    "\n",
    "if profile_data:\n",
    "    keywords_orcid = estrai_keyword_orcid(profile_data)\n",
    "    print(\"Keyword estratte da ORCID:\")\n",
    "    print(keywords_orcid)\n",
    "else:\n",
    "    keywords_orcid = []\n"
   ]
  },
  {
   "cell_type": "markdown",
   "id": "c012377e",
   "metadata": {},
   "source": [
    "estrazione semplificata di keyword + lista query passate"
   ]
  },
  {
   "cell_type": "code",
   "execution_count": 10,
   "id": "3f207dec",
   "metadata": {},
   "outputs": [],
   "source": [
    "def costruisci_profilo_entita_completo(lista_query, keyword_orcid):\n",
    "    entita = []\n",
    "    # Estraggo parole dalle query\n",
    "    for query in lista_query:\n",
    "        parole = query.lower().split()\n",
    "        entita.extend(parole)\n",
    "    # Aggiungo le keyword ORCID (già in minuscolo)\n",
    "    entita.extend(keyword_orcid)\n",
    "    profilo = Counter(entita)\n",
    "    return profilo\n"
   ]
  },
  {
   "cell_type": "code",
   "execution_count": 11,
   "id": "6490c37d",
   "metadata": {},
   "outputs": [
    {
     "name": "stdout",
     "output_type": "stream",
     "text": [
      "Next query suggerita (con ORCID): eventi a Verona cambiamenti climatici scientifici\n"
     ]
    }
   ],
   "source": [
    "# Supponiamo tu abbia già le query passate e le keyword ORCID\n",
    "profilo_completo = costruisci_profilo_entita_completo(query_passate, keywords_orcid)\n",
    "\n",
    "query_corrente = \"eventi a Verona\"\n",
    "next_query = suggerisci_next_query(query_corrente, profilo_completo)\n",
    "\n",
    "print(\"Next query suggerita (con ORCID):\", next_query)\n"
   ]
  },
  {
   "cell_type": "markdown",
   "id": "3cf8b4f4",
   "metadata": {},
   "source": [
    "Connessione con DATABASE"
   ]
  },
  {
   "cell_type": "code",
   "execution_count": 14,
   "id": "48c5449f",
   "metadata": {},
   "outputs": [
    {
     "ename": "OperationalError",
     "evalue": "connection to server at \"localhost\" (::1), port 5432 failed: FATALE:  il database \"tesi_meteo\" non esiste\n",
     "output_type": "error",
     "traceback": [
      "\u001b[1;31m---------------------------------------------------------------------------\u001b[0m",
      "\u001b[1;31mOperationalError\u001b[0m                          Traceback (most recent call last)",
      "Cell \u001b[1;32mIn[14], line 22\u001b[0m\n\u001b[0;32m     19\u001b[0m     \u001b[38;5;28;01mreturn\u001b[39;00m risultati\n\u001b[0;32m     21\u001b[0m \u001b[38;5;66;03m# Connessione e prova ricerca\u001b[39;00m\n\u001b[1;32m---> 22\u001b[0m conn \u001b[38;5;241m=\u001b[39m \u001b[43mconnetti_db\u001b[49m\u001b[43m(\u001b[49m\u001b[43m)\u001b[49m\n\u001b[0;32m     23\u001b[0m keyword \u001b[38;5;241m=\u001b[39m \u001b[38;5;124m\"\u001b[39m\u001b[38;5;124mscientifici\u001b[39m\u001b[38;5;124m\"\u001b[39m  \u001b[38;5;66;03m# esempio da next query\u001b[39;00m\n\u001b[0;32m     24\u001b[0m eventi \u001b[38;5;241m=\u001b[39m cerca_eventi(conn, keyword)\n",
      "Cell \u001b[1;32mIn[14], line 4\u001b[0m, in \u001b[0;36mconnetti_db\u001b[1;34m()\u001b[0m\n\u001b[0;32m      3\u001b[0m \u001b[38;5;28;01mdef\u001b[39;00m \u001b[38;5;21mconnetti_db\u001b[39m():\n\u001b[1;32m----> 4\u001b[0m     conn \u001b[38;5;241m=\u001b[39m \u001b[43mpsycopg2\u001b[49m\u001b[38;5;241;43m.\u001b[39;49m\u001b[43mconnect\u001b[49m\u001b[43m(\u001b[49m\n\u001b[0;32m      5\u001b[0m \u001b[43m        \u001b[49m\u001b[43mhost\u001b[49m\u001b[38;5;241;43m=\u001b[39;49m\u001b[38;5;124;43m\"\u001b[39;49m\u001b[38;5;124;43mlocalhost\u001b[39;49m\u001b[38;5;124;43m\"\u001b[39;49m\u001b[43m,\u001b[49m\n\u001b[0;32m      6\u001b[0m \u001b[43m        \u001b[49m\u001b[43mdatabase\u001b[49m\u001b[38;5;241;43m=\u001b[39;49m\u001b[38;5;124;43m\"\u001b[39;49m\u001b[38;5;124;43mtesi_meteo\u001b[39;49m\u001b[38;5;124;43m\"\u001b[39;49m\u001b[43m,\u001b[49m\n\u001b[0;32m      7\u001b[0m \u001b[43m        \u001b[49m\u001b[43muser\u001b[49m\u001b[38;5;241;43m=\u001b[39;49m\u001b[38;5;124;43m\"\u001b[39;49m\u001b[38;5;124;43mpostgres\u001b[39;49m\u001b[38;5;124;43m\"\u001b[39;49m\u001b[43m,\u001b[49m\n\u001b[0;32m      8\u001b[0m \u001b[43m        \u001b[49m\u001b[43mpassword\u001b[49m\u001b[38;5;241;43m=\u001b[39;49m\u001b[38;5;124;43m\"\u001b[39;49m\u001b[38;5;124;43m1234\u001b[39;49m\u001b[38;5;124;43m\"\u001b[39;49m\n\u001b[0;32m      9\u001b[0m \u001b[43m    \u001b[49m\u001b[43m)\u001b[49m\n\u001b[0;32m     10\u001b[0m     \u001b[38;5;28;01mreturn\u001b[39;00m conn\n",
      "File \u001b[1;32mc:\\Users\\feder\\anaconda3\\envs\\Data_Science_env\\Lib\\site-packages\\psycopg2\\__init__.py:135\u001b[0m, in \u001b[0;36mconnect\u001b[1;34m(dsn, connection_factory, cursor_factory, **kwargs)\u001b[0m\n\u001b[0;32m    132\u001b[0m     kwasync[\u001b[38;5;124m'\u001b[39m\u001b[38;5;124masync_\u001b[39m\u001b[38;5;124m'\u001b[39m] \u001b[38;5;241m=\u001b[39m kwargs\u001b[38;5;241m.\u001b[39mpop(\u001b[38;5;124m'\u001b[39m\u001b[38;5;124masync_\u001b[39m\u001b[38;5;124m'\u001b[39m)\n\u001b[0;32m    134\u001b[0m dsn \u001b[38;5;241m=\u001b[39m _ext\u001b[38;5;241m.\u001b[39mmake_dsn(dsn, \u001b[38;5;241m*\u001b[39m\u001b[38;5;241m*\u001b[39mkwargs)\n\u001b[1;32m--> 135\u001b[0m conn \u001b[38;5;241m=\u001b[39m \u001b[43m_connect\u001b[49m\u001b[43m(\u001b[49m\u001b[43mdsn\u001b[49m\u001b[43m,\u001b[49m\u001b[43m \u001b[49m\u001b[43mconnection_factory\u001b[49m\u001b[38;5;241;43m=\u001b[39;49m\u001b[43mconnection_factory\u001b[49m\u001b[43m,\u001b[49m\u001b[43m \u001b[49m\u001b[38;5;241;43m*\u001b[39;49m\u001b[38;5;241;43m*\u001b[39;49m\u001b[43mkwasync\u001b[49m\u001b[43m)\u001b[49m\n\u001b[0;32m    136\u001b[0m \u001b[38;5;28;01mif\u001b[39;00m cursor_factory \u001b[38;5;129;01mis\u001b[39;00m \u001b[38;5;129;01mnot\u001b[39;00m \u001b[38;5;28;01mNone\u001b[39;00m:\n\u001b[0;32m    137\u001b[0m     conn\u001b[38;5;241m.\u001b[39mcursor_factory \u001b[38;5;241m=\u001b[39m cursor_factory\n",
      "\u001b[1;31mOperationalError\u001b[0m: connection to server at \"localhost\" (::1), port 5432 failed: FATALE:  il database \"tesi_meteo\" non esiste\n"
     ]
    }
   ],
   "source": [
    "import psycopg2\n",
    "\n",
    "def connetti_db():\n",
    "    conn = psycopg2.connect(\n",
    "        host=\"localhost\",\n",
    "        database=\"tesi_meteo\",\n",
    "        user=\"postgres\",\n",
    "        password=\"1234\"\n",
    "    )\n",
    "    return conn\n",
    "\n",
    "def cerca_eventi(conn, keyword):\n",
    "    cur = conn.cursor()\n",
    "    # Query semplice che cerca keyword nella descrizione degli eventi\n",
    "    sql = \"SELECT id, nome_evento, descrizione, data_evento FROM eventi WHERE descrizione ILIKE %s LIMIT 10\"\n",
    "    cur.execute(sql, ('%' + keyword + '%',))\n",
    "    risultati = cur.fetchall()\n",
    "    cur.close()\n",
    "    return risultati\n",
    "\n",
    "# Connessione e prova ricerca\n",
    "conn = connetti_db()\n",
    "keyword = \"scientifici\"  # esempio da next query\n",
    "eventi = cerca_eventi(conn, keyword)\n",
    "\n",
    "for evento in eventi:\n",
    "    print(evento)\n",
    "\n",
    "conn.close()\n"
   ]
  }
 ],
 "metadata": {
  "kernelspec": {
   "display_name": "Data_Science_env",
   "language": "python",
   "name": "python3"
  },
  "language_info": {
   "codemirror_mode": {
    "name": "ipython",
    "version": 3
   },
   "file_extension": ".py",
   "mimetype": "text/x-python",
   "name": "python",
   "nbconvert_exporter": "python",
   "pygments_lexer": "ipython3",
   "version": "3.13.5"
  }
 },
 "nbformat": 4,
 "nbformat_minor": 5
}
